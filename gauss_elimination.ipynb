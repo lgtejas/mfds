{
 "cells": [
  {
   "cell_type": "code",
   "execution_count": 24,
   "id": "95e694f3-3ed4-42a1-aebc-c7fe6b0bd6eb",
   "metadata": {},
   "outputs": [],
   "source": [
    "import numpy as np\n",
    "from scipy.linalg import lu\n",
    "from sympy import Matrix"
   ]
  },
  {
   "cell_type": "markdown",
   "id": "5860a0f7-86da-4d56-950a-cfd30aff4ee7",
   "metadata": {},
   "source": [
    "Solves Ax=B\n",
    "\n",
    "We are trying to solve the linear system\n",
    "\n",
    " 2x1 + 5x2 = 2</br>\n",
    "-4x1 + 3x2 = -30"
   ]
  },
  {
   "cell_type": "code",
   "execution_count": 38,
   "id": "a416eef9-7df8-412f-aa06-649edbc8ef58",
   "metadata": {},
   "outputs": [],
   "source": [
    "A = Matrix([[2,5],[-4,3]])"
   ]
  },
  {
   "cell_type": "code",
   "execution_count": 39,
   "id": "7454a340-8b9c-477c-ad36-7a94ef157167",
   "metadata": {},
   "outputs": [
    {
     "data": {
      "text/latex": [
       "$\\displaystyle \\left[\\begin{matrix}2 & 5\\\\-4 & 3\\end{matrix}\\right]$"
      ],
      "text/plain": [
       "Matrix([\n",
       "[ 2, 5],\n",
       "[-4, 3]])"
      ]
     },
     "execution_count": 39,
     "metadata": {},
     "output_type": "execute_result"
    }
   ],
   "source": [
    "A"
   ]
  },
  {
   "cell_type": "code",
   "execution_count": 40,
   "id": "e7e9f925-bca2-4a67-aecb-8e69b2c5922b",
   "metadata": {},
   "outputs": [],
   "source": [
    "B= Matrix([[2,-30]])"
   ]
  },
  {
   "cell_type": "code",
   "execution_count": 42,
   "id": "c22dfa27-93b9-41ac-82e6-b965a3305369",
   "metadata": {},
   "outputs": [],
   "source": [
    "B = B.transpose()"
   ]
  },
  {
   "cell_type": "code",
   "execution_count": 43,
   "id": "a060e2a5-c682-446d-940e-fe42923c44d7",
   "metadata": {},
   "outputs": [
    {
     "data": {
      "text/latex": [
       "$\\displaystyle \\left[\\begin{matrix}2\\\\-30\\end{matrix}\\right]$"
      ],
      "text/plain": [
       "Matrix([\n",
       "[  2],\n",
       "[-30]])"
      ]
     },
     "execution_count": 43,
     "metadata": {},
     "output_type": "execute_result"
    }
   ],
   "source": [
    "B"
   ]
  },
  {
   "cell_type": "code",
   "execution_count": 44,
   "id": "7289318e-a393-4608-9712-7afbf9351a6e",
   "metadata": {},
   "outputs": [
    {
     "data": {
      "text/plain": [
       "(Matrix([\n",
       " [ 6],\n",
       " [-2]]),\n",
       " Matrix(0, 1, []))"
      ]
     },
     "execution_count": 44,
     "metadata": {},
     "output_type": "execute_result"
    }
   ],
   "source": [
    "A.gauss_jordan_solve(B)"
   ]
  },
  {
   "cell_type": "markdown",
   "id": "3f39d65c-138a-44ee-81fb-313580984c3d",
   "metadata": {},
   "source": [
    "x1 = 6 and x2 = -2"
   ]
  },
  {
   "cell_type": "code",
   "execution_count": null,
   "id": "7afb3d8f-b198-4f88-bd2a-44b0e936ba7d",
   "metadata": {},
   "outputs": [],
   "source": []
  }
 ],
 "metadata": {
  "kernelspec": {
   "display_name": "Python 3",
   "language": "python",
   "name": "python3"
  },
  "language_info": {
   "codemirror_mode": {
    "name": "ipython",
    "version": 3
   },
   "file_extension": ".py",
   "mimetype": "text/x-python",
   "name": "python",
   "nbconvert_exporter": "python",
   "pygments_lexer": "ipython3",
   "version": "3.7.0"
  }
 },
 "nbformat": 4,
 "nbformat_minor": 5
}
