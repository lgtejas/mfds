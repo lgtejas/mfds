{
 "cells": [
  {
   "cell_type": "code",
   "execution_count": 1,
   "id": "090773c2-ff25-43fa-93e7-5093ce874cc3",
   "metadata": {},
   "outputs": [],
   "source": [
    "import numpy as np\n",
    "import numpy.linalg as linalg\n",
    "from sympy import Matrix"
   ]
  },
  {
   "cell_type": "code",
   "execution_count": 2,
   "id": "e9958260-e1a0-44dc-afb2-bed5d96a9406",
   "metadata": {},
   "outputs": [],
   "source": [
    "a = [[1,2], [3,4]]"
   ]
  },
  {
   "cell_type": "code",
   "execution_count": 3,
   "id": "eb6fa709-1f9d-4b06-b768-1e85f6772f46",
   "metadata": {},
   "outputs": [
    {
     "data": {
      "text/plain": [
       "[[1, 2], [3, 4]]"
      ]
     },
     "execution_count": 3,
     "metadata": {},
     "output_type": "execute_result"
    }
   ],
   "source": [
    "a"
   ]
  },
  {
   "cell_type": "code",
   "execution_count": 4,
   "id": "fcfd0363-fda1-44d5-820c-342681f1adb5",
   "metadata": {},
   "outputs": [],
   "source": [
    "a = np.array(a)"
   ]
  },
  {
   "cell_type": "code",
   "execution_count": 5,
   "id": "6f1369e7-db9a-4c36-ac59-61429d9c337b",
   "metadata": {},
   "outputs": [
    {
     "data": {
      "text/plain": [
       "array([[1, 2],\n",
       "       [3, 4]])"
      ]
     },
     "execution_count": 5,
     "metadata": {},
     "output_type": "execute_result"
    }
   ],
   "source": [
    "a"
   ]
  },
  {
   "cell_type": "code",
   "execution_count": 6,
   "id": "5baa8bca-4eda-43a6-bdb2-b6e6a5f47737",
   "metadata": {},
   "outputs": [
    {
     "data": {
      "text/plain": [
       "(2, 2)"
      ]
     },
     "execution_count": 6,
     "metadata": {},
     "output_type": "execute_result"
    }
   ],
   "source": [
    "a.shape"
   ]
  },
  {
   "cell_type": "code",
   "execution_count": 7,
   "id": "4c057e51-9652-4d15-8e3e-a1a5ca67abc6",
   "metadata": {},
   "outputs": [],
   "source": [
    "mtx = Matrix(a)"
   ]
  },
  {
   "cell_type": "code",
   "execution_count": 8,
   "id": "3bb2a24c-7f42-424d-93e4-5ad1faa959e6",
   "metadata": {},
   "outputs": [
    {
     "data": {
      "text/plain": [
       "(Matrix([\n",
       " [1, 0],\n",
       " [0, 1]]),\n",
       " (0, 1))"
      ]
     },
     "execution_count": 8,
     "metadata": {},
     "output_type": "execute_result"
    }
   ],
   "source": [
    "mtx.rref()"
   ]
  },
  {
   "cell_type": "code",
   "execution_count": 9,
   "id": "a7d51e8e-e970-49f9-ab9c-c4f4b2a26b91",
   "metadata": {},
   "outputs": [
    {
     "data": {
      "text/plain": [
       "array([[1, 2],\n",
       "       [3, 4]])"
      ]
     },
     "execution_count": 9,
     "metadata": {},
     "output_type": "execute_result"
    }
   ],
   "source": [
    "a"
   ]
  },
  {
   "cell_type": "code",
   "execution_count": 10,
   "id": "7d1d24f5-3978-400d-a901-89fc3b46dbd5",
   "metadata": {},
   "outputs": [
    {
     "data": {
      "text/plain": [
       "array([[-2. ,  1. ],\n",
       "       [ 1.5, -0.5]])"
      ]
     },
     "execution_count": 10,
     "metadata": {},
     "output_type": "execute_result"
    }
   ],
   "source": [
    "linalg.inv(a)"
   ]
  },
  {
   "cell_type": "code",
   "execution_count": 11,
   "id": "178214cc-0213-4e4e-92bc-579b902c4bae",
   "metadata": {},
   "outputs": [
    {
     "data": {
      "text/plain": [
       "array([[1, 2],\n",
       "       [3, 4]])"
      ]
     },
     "execution_count": 11,
     "metadata": {},
     "output_type": "execute_result"
    }
   ],
   "source": [
    "a"
   ]
  },
  {
   "cell_type": "code",
   "execution_count": 12,
   "id": "0d3c466c-d46e-4be7-8f3c-85c0e33f6233",
   "metadata": {},
   "outputs": [
    {
     "data": {
      "text/latex": [
       "$\\displaystyle \\left[\\begin{matrix}-2 & 1\\\\\\frac{3}{2} & - \\frac{1}{2}\\end{matrix}\\right]$"
      ],
      "text/plain": [
       "Matrix([\n",
       "[ -2,    1],\n",
       "[3/2, -1/2]])"
      ]
     },
     "execution_count": 12,
     "metadata": {},
     "output_type": "execute_result"
    }
   ],
   "source": [
    "mtx.inv()"
   ]
  },
  {
   "cell_type": "code",
   "execution_count": 13,
   "id": "86be3ed3-d7b1-4f92-85d7-646f3adb7f9c",
   "metadata": {},
   "outputs": [],
   "source": [
    "mtx_b = Matrix([[3,1], [2,1]])"
   ]
  },
  {
   "cell_type": "code",
   "execution_count": 14,
   "id": "efd3129b-ad1e-46c1-af87-598da757cc6c",
   "metadata": {},
   "outputs": [
    {
     "data": {
      "text/latex": [
       "$\\displaystyle \\left[\\begin{matrix}3 & 1\\\\2 & 1\\end{matrix}\\right]$"
      ],
      "text/plain": [
       "Matrix([\n",
       "[3, 1],\n",
       "[2, 1]])"
      ]
     },
     "execution_count": 14,
     "metadata": {},
     "output_type": "execute_result"
    }
   ],
   "source": [
    "mtx_b"
   ]
  },
  {
   "cell_type": "code",
   "execution_count": 15,
   "id": "c1446953-b54b-42c1-bb0b-6f44f5e1f153",
   "metadata": {},
   "outputs": [
    {
     "data": {
      "text/latex": [
       "$\\displaystyle \\left[\\begin{matrix}1 & -1\\\\-2 & 3\\end{matrix}\\right]$"
      ],
      "text/plain": [
       "Matrix([\n",
       "[ 1, -1],\n",
       "[-2,  3]])"
      ]
     },
     "execution_count": 15,
     "metadata": {},
     "output_type": "execute_result"
    }
   ],
   "source": [
    "mtx_b.inv()"
   ]
  },
  {
   "cell_type": "code",
   "execution_count": 16,
   "id": "663eac54-e03d-4afd-b52f-849658b1a163",
   "metadata": {},
   "outputs": [
    {
     "data": {
      "text/plain": [
       "(2, 2)"
      ]
     },
     "execution_count": 16,
     "metadata": {},
     "output_type": "execute_result"
    }
   ],
   "source": [
    "mtx_b.shape"
   ]
  },
  {
   "cell_type": "code",
   "execution_count": 17,
   "id": "20bc6228-00b4-4d5c-9e56-1e313ef117d1",
   "metadata": {},
   "outputs": [
    {
     "data": {
      "text/plain": [
       "(2, 2)"
      ]
     },
     "execution_count": 17,
     "metadata": {},
     "output_type": "execute_result"
    }
   ],
   "source": [
    "a.shape"
   ]
  },
  {
   "cell_type": "code",
   "execution_count": 18,
   "id": "6fb25d9f-ff4f-4e9c-9de0-4290ec239d38",
   "metadata": {},
   "outputs": [
    {
     "data": {
      "text/latex": [
       "$\\displaystyle \\left[\\begin{matrix}3 & 2\\\\1 & 1\\end{matrix}\\right]$"
      ],
      "text/plain": [
       "Matrix([\n",
       "[3, 2],\n",
       "[1, 1]])"
      ]
     },
     "execution_count": 18,
     "metadata": {},
     "output_type": "execute_result"
    }
   ],
   "source": [
    "mtx_b.adjoint()"
   ]
  },
  {
   "cell_type": "code",
   "execution_count": 19,
   "id": "68a2c656-e510-4802-9005-f811ca06c3f9",
   "metadata": {},
   "outputs": [
    {
     "data": {
      "text/latex": [
       "$\\displaystyle -2$"
      ],
      "text/plain": [
       "-2"
      ]
     },
     "execution_count": 19,
     "metadata": {},
     "output_type": "execute_result"
    }
   ],
   "source": [
    "mtx.det()"
   ]
  },
  {
   "cell_type": "code",
   "execution_count": 20,
   "id": "aea8a5da-1d0f-46be-928a-e0c27cafab6b",
   "metadata": {},
   "outputs": [
    {
     "data": {
      "text/latex": [
       "$\\displaystyle \\left[\\begin{matrix}4 & -3\\\\-2 & 1\\end{matrix}\\right]$"
      ],
      "text/plain": [
       "Matrix([\n",
       "[ 4, -3],\n",
       "[-2,  1]])"
      ]
     },
     "execution_count": 20,
     "metadata": {},
     "output_type": "execute_result"
    }
   ],
   "source": [
    "mtx.cofactor_matrix()"
   ]
  },
  {
   "cell_type": "code",
   "execution_count": 21,
   "id": "1467967b-5e72-4bea-9eca-57a99af28f77",
   "metadata": {},
   "outputs": [
    {
     "data": {
      "text/latex": [
       "$\\displaystyle \\left[\\begin{matrix}3 & 1\\\\2 & 1\\end{matrix}\\right]$"
      ],
      "text/plain": [
       "Matrix([\n",
       "[3, 1],\n",
       "[2, 1]])"
      ]
     },
     "execution_count": 21,
     "metadata": {},
     "output_type": "execute_result"
    }
   ],
   "source": [
    "mtx_b"
   ]
  },
  {
   "cell_type": "code",
   "execution_count": 36,
   "id": "42d911a3-92b8-4418-a8bb-073605744fbf",
   "metadata": {},
   "outputs": [],
   "source": [
    "mtx_b_inv = mtx_b.inv()"
   ]
  },
  {
   "cell_type": "code",
   "execution_count": 37,
   "id": "e02c4697-fe56-4f6a-9e61-28f303cf19f9",
   "metadata": {},
   "outputs": [
    {
     "data": {
      "text/latex": [
       "$\\displaystyle \\left[\\begin{matrix}1 & -1\\\\-2 & 3\\end{matrix}\\right]$"
      ],
      "text/plain": [
       "Matrix([\n",
       "[ 1, -1],\n",
       "[-2,  3]])"
      ]
     },
     "execution_count": 37,
     "metadata": {},
     "output_type": "execute_result"
    }
   ],
   "source": [
    "mtx_b_inv"
   ]
  },
  {
   "cell_type": "code",
   "execution_count": 39,
   "id": "eced8d18-220e-4d6a-af2d-addaa0feb3a1",
   "metadata": {},
   "outputs": [],
   "source": [
    "I = mtx_b * mtx_b_inv"
   ]
  },
  {
   "cell_type": "code",
   "execution_count": 40,
   "id": "41490e67-5c86-4d9f-9e38-a7874f93cd85",
   "metadata": {},
   "outputs": [
    {
     "data": {
      "text/latex": [
       "$\\displaystyle \\left[\\begin{matrix}1 & 0\\\\0 & 1\\end{matrix}\\right]$"
      ],
      "text/plain": [
       "Matrix([\n",
       "[1, 0],\n",
       "[0, 1]])"
      ]
     },
     "execution_count": 40,
     "metadata": {},
     "output_type": "execute_result"
    }
   ],
   "source": [
    "I"
   ]
  },
  {
   "cell_type": "code",
   "execution_count": 41,
   "id": "72ae9099-3091-453e-893c-00cd497398a1",
   "metadata": {},
   "outputs": [],
   "source": [
    "I_ = mtx_b_inv * mtx_b"
   ]
  },
  {
   "cell_type": "code",
   "execution_count": 42,
   "id": "6f6b2fb5-50bf-488c-a838-ed3b9233cb01",
   "metadata": {},
   "outputs": [
    {
     "data": {
      "text/latex": [
       "$\\displaystyle \\left[\\begin{matrix}1 & 0\\\\0 & 1\\end{matrix}\\right]$"
      ],
      "text/plain": [
       "Matrix([\n",
       "[1, 0],\n",
       "[0, 1]])"
      ]
     },
     "execution_count": 42,
     "metadata": {},
     "output_type": "execute_result"
    }
   ],
   "source": [
    "I_"
   ]
  },
  {
   "cell_type": "code",
   "execution_count": 43,
   "id": "e7720704-18cd-4144-88a1-e84bc7dcb493",
   "metadata": {},
   "outputs": [
    {
     "data": {
      "text/plain": [
       "True"
      ]
     },
     "execution_count": 43,
     "metadata": {},
     "output_type": "execute_result"
    }
   ],
   "source": [
    "I == I_"
   ]
  },
  {
   "cell_type": "code",
   "execution_count": 53,
   "id": "753a4751-ec7c-44e8-abf8-a546b3f45fdd",
   "metadata": {},
   "outputs": [],
   "source": [
    "mtx_c = Matrix([[3,1,-1], [2,-2,0],[1,2,-1]])"
   ]
  },
  {
   "cell_type": "code",
   "execution_count": 54,
   "id": "afc134db-c51f-4f65-99a7-e16a61b1d464",
   "metadata": {},
   "outputs": [
    {
     "data": {
      "text/latex": [
       "$\\displaystyle \\left[\\begin{matrix}3 & 1 & -1\\\\2 & -2 & 0\\\\1 & 2 & -1\\end{matrix}\\right]$"
      ],
      "text/plain": [
       "Matrix([\n",
       "[3,  1, -1],\n",
       "[2, -2,  0],\n",
       "[1,  2, -1]])"
      ]
     },
     "execution_count": 54,
     "metadata": {},
     "output_type": "execute_result"
    }
   ],
   "source": [
    "mtx_c\n"
   ]
  },
  {
   "cell_type": "code",
   "execution_count": 55,
   "id": "1856b3aa-da9d-41c3-bf94-a04557fb2850",
   "metadata": {},
   "outputs": [],
   "source": [
    "cofactor = mtx_c.cofactor_matrix()"
   ]
  },
  {
   "cell_type": "code",
   "execution_count": 56,
   "id": "b3046fb0-27f3-4a55-b4dc-d30ead745588",
   "metadata": {},
   "outputs": [
    {
     "data": {
      "text/latex": [
       "$\\displaystyle \\left[\\begin{matrix}2 & 2 & 6\\\\-1 & -2 & -5\\\\-2 & -2 & -8\\end{matrix}\\right]$"
      ],
      "text/plain": [
       "Matrix([\n",
       "[ 2,  2,  6],\n",
       "[-1, -2, -5],\n",
       "[-2, -2, -8]])"
      ]
     },
     "execution_count": 56,
     "metadata": {},
     "output_type": "execute_result"
    }
   ],
   "source": [
    "cofactor"
   ]
  },
  {
   "cell_type": "code",
   "execution_count": 57,
   "id": "fcbb3975-9cdb-4189-a5d1-8cfcb3def837",
   "metadata": {},
   "outputs": [
    {
     "data": {
      "text/latex": [
       "$\\displaystyle \\left[\\begin{matrix}2 & 2 & 6\\\\-1 & -2 & -5\\\\-2 & -2 & -8\\end{matrix}\\right]$"
      ],
      "text/plain": [
       "Matrix([\n",
       "[ 2,  2,  6],\n",
       "[-1, -2, -5],\n",
       "[-2, -2, -8]])"
      ]
     },
     "execution_count": 57,
     "metadata": {},
     "output_type": "execute_result"
    }
   ],
   "source": [
    "mtx_c.cofactorMatrix()"
   ]
  },
  {
   "cell_type": "code",
   "execution_count": 59,
   "id": "9388c920-a3a4-4831-a269-85f05602dd76",
   "metadata": {},
   "outputs": [
    {
     "data": {
      "text/latex": [
       "$\\displaystyle \\left[\\begin{matrix}3 & 2 & 1\\\\1 & -2 & 2\\\\-1 & 0 & -1\\end{matrix}\\right]$"
      ],
      "text/plain": [
       "Matrix([\n",
       "[ 3,  2,  1],\n",
       "[ 1, -2,  2],\n",
       "[-1,  0, -1]])"
      ]
     },
     "execution_count": 59,
     "metadata": {},
     "output_type": "execute_result"
    }
   ],
   "source": [
    "mtx_c.adjoint()"
   ]
  },
  {
   "cell_type": "code",
   "execution_count": 60,
   "id": "3433d0b9-0add-43e1-b2d2-b4556a340880",
   "metadata": {},
   "outputs": [
    {
     "data": {
      "text/latex": [
       "$\\displaystyle \\left[\\begin{matrix}2 & -1 & -2\\\\2 & -2 & -2\\\\6 & -5 & -8\\end{matrix}\\right]$"
      ],
      "text/plain": [
       "Matrix([\n",
       "[2, -1, -2],\n",
       "[2, -2, -2],\n",
       "[6, -5, -8]])"
      ]
     },
     "execution_count": 60,
     "metadata": {},
     "output_type": "execute_result"
    }
   ],
   "source": [
    "cofactor.transpose()"
   ]
  },
  {
   "cell_type": "code",
   "execution_count": 61,
   "id": "dace60ae-919d-4384-9682-bdfad64bf12f",
   "metadata": {},
   "outputs": [
    {
     "data": {
      "text/latex": [
       "$\\displaystyle \\left[\\begin{matrix}2 & -1 & -2\\\\2 & -2 & -2\\\\6 & -5 & -8\\end{matrix}\\right]$"
      ],
      "text/plain": [
       "Matrix([\n",
       "[2, -1, -2],\n",
       "[2, -2, -2],\n",
       "[6, -5, -8]])"
      ]
     },
     "execution_count": 61,
     "metadata": {},
     "output_type": "execute_result"
    }
   ],
   "source": [
    "mtx_c.adjugate()"
   ]
  },
  {
   "cell_type": "code",
   "execution_count": 62,
   "id": "8fe23d02-4f7b-4aeb-851b-6e3d2d565aa7",
   "metadata": {},
   "outputs": [],
   "source": [
    "a = Matrix([[1,2], [3,4]])\n",
    "b = Matrix([[5,6], [7,8]])"
   ]
  },
  {
   "cell_type": "code",
   "execution_count": 63,
   "id": "f08b84d4-d48a-4277-b4ba-1ae092584349",
   "metadata": {},
   "outputs": [
    {
     "data": {
      "text/latex": [
       "$\\displaystyle \\left[\\begin{matrix}1 & 2\\\\3 & 4\\end{matrix}\\right]$"
      ],
      "text/plain": [
       "Matrix([\n",
       "[1, 2],\n",
       "[3, 4]])"
      ]
     },
     "execution_count": 63,
     "metadata": {},
     "output_type": "execute_result"
    }
   ],
   "source": [
    "a"
   ]
  },
  {
   "cell_type": "code",
   "execution_count": 64,
   "id": "2444703b-5d13-4c98-80e0-f4aa51332011",
   "metadata": {},
   "outputs": [
    {
     "data": {
      "text/latex": [
       "$\\displaystyle \\left[\\begin{matrix}5 & 6\\\\7 & 8\\end{matrix}\\right]$"
      ],
      "text/plain": [
       "Matrix([\n",
       "[5, 6],\n",
       "[7, 8]])"
      ]
     },
     "execution_count": 64,
     "metadata": {},
     "output_type": "execute_result"
    }
   ],
   "source": [
    "b"
   ]
  },
  {
   "cell_type": "code",
   "execution_count": 65,
   "id": "f7a038e4-5fc0-4856-9776-e3df77a08d85",
   "metadata": {},
   "outputs": [],
   "source": [
    "c = a * b"
   ]
  },
  {
   "cell_type": "code",
   "execution_count": 66,
   "id": "3b53d88d-4571-4420-874b-7f2faac31a9d",
   "metadata": {},
   "outputs": [
    {
     "data": {
      "text/latex": [
       "$\\displaystyle \\left[\\begin{matrix}19 & 22\\\\43 & 50\\end{matrix}\\right]$"
      ],
      "text/plain": [
       "Matrix([\n",
       "[19, 22],\n",
       "[43, 50]])"
      ]
     },
     "execution_count": 66,
     "metadata": {},
     "output_type": "execute_result"
    }
   ],
   "source": [
    "c"
   ]
  },
  {
   "cell_type": "code",
   "execution_count": 67,
   "id": "0d7e6ae4-c393-4b59-888d-1bc31bfcc24b",
   "metadata": {},
   "outputs": [
    {
     "data": {
      "text/latex": [
       "$\\displaystyle 4$"
      ],
      "text/plain": [
       "4"
      ]
     },
     "execution_count": 67,
     "metadata": {},
     "output_type": "execute_result"
    }
   ],
   "source": [
    "c.det()"
   ]
  },
  {
   "cell_type": "code",
   "execution_count": 68,
   "id": "998c533f-ebc2-4afc-964c-156e6191dda2",
   "metadata": {},
   "outputs": [
    {
     "data": {
      "text/latex": [
       "$\\displaystyle 4$"
      ],
      "text/plain": [
       "4"
      ]
     },
     "execution_count": 68,
     "metadata": {},
     "output_type": "execute_result"
    }
   ],
   "source": [
    "a.det() * b.det()"
   ]
  },
  {
   "cell_type": "code",
   "execution_count": 69,
   "id": "75e301ae-1b6b-4eda-8d6f-3798f27dcc5e",
   "metadata": {},
   "outputs": [],
   "source": [
    "inv = a.adjugate()/a.det()"
   ]
  },
  {
   "cell_type": "code",
   "execution_count": 70,
   "id": "88530ebb-f060-431e-9756-f0d43305a9ee",
   "metadata": {},
   "outputs": [
    {
     "data": {
      "text/latex": [
       "$\\displaystyle \\left[\\begin{matrix}-2 & 1\\\\\\frac{3}{2} & - \\frac{1}{2}\\end{matrix}\\right]$"
      ],
      "text/plain": [
       "Matrix([\n",
       "[ -2,    1],\n",
       "[3/2, -1/2]])"
      ]
     },
     "execution_count": 70,
     "metadata": {},
     "output_type": "execute_result"
    }
   ],
   "source": [
    "inv"
   ]
  },
  {
   "cell_type": "code",
   "execution_count": 71,
   "id": "722ba5ef-6121-4fcd-9254-ff6750b3ad9c",
   "metadata": {},
   "outputs": [
    {
     "data": {
      "text/latex": [
       "$\\displaystyle \\left[\\begin{matrix}-2 & 1\\\\\\frac{3}{2} & - \\frac{1}{2}\\end{matrix}\\right]$"
      ],
      "text/plain": [
       "Matrix([\n",
       "[ -2,    1],\n",
       "[3/2, -1/2]])"
      ]
     },
     "execution_count": 71,
     "metadata": {},
     "output_type": "execute_result"
    }
   ],
   "source": [
    "a.inv()"
   ]
  },
  {
   "cell_type": "code",
   "execution_count": 72,
   "id": "09d8f39b-209f-402d-acce-4d241e769080",
   "metadata": {},
   "outputs": [
    {
     "data": {
      "text/latex": [
       "$\\displaystyle \\left[\\begin{matrix}1 & 2\\\\3 & 4\\end{matrix}\\right]$"
      ],
      "text/plain": [
       "Matrix([\n",
       "[1, 2],\n",
       "[3, 4]])"
      ]
     },
     "execution_count": 72,
     "metadata": {},
     "output_type": "execute_result"
    }
   ],
   "source": [
    "a"
   ]
  },
  {
   "cell_type": "code",
   "execution_count": 73,
   "id": "2e8cc666-0a78-4214-9df4-5908cc2023dc",
   "metadata": {},
   "outputs": [
    {
     "data": {
      "text/plain": [
       "(Matrix([\n",
       " [1, 0],\n",
       " [0, 1]]),\n",
       " (0, 1))"
      ]
     },
     "execution_count": 73,
     "metadata": {},
     "output_type": "execute_result"
    }
   ],
   "source": [
    "a.rref()"
   ]
  },
  {
   "cell_type": "code",
   "execution_count": 74,
   "id": "36a409e2-52f4-43c0-b687-5d01ee0499cf",
   "metadata": {},
   "outputs": [
    {
     "data": {
      "text/latex": [
       "$\\displaystyle \\left[\\begin{matrix}1 & 2\\\\0 & -2\\end{matrix}\\right]$"
      ],
      "text/plain": [
       "Matrix([\n",
       "[1,  2],\n",
       "[0, -2]])"
      ]
     },
     "execution_count": 74,
     "metadata": {},
     "output_type": "execute_result"
    }
   ],
   "source": [
    "a.echelon_form()"
   ]
  },
  {
   "cell_type": "code",
   "execution_count": 75,
   "id": "54d115f4-60cd-4a82-8563-39402600b481",
   "metadata": {},
   "outputs": [
    {
     "data": {
      "text/plain": [
       "(Matrix([\n",
       " [1, 0],\n",
       " [0, 1]]),\n",
       " (0, 1))"
      ]
     },
     "execution_count": 75,
     "metadata": {},
     "output_type": "execute_result"
    }
   ],
   "source": [
    "a.rref()"
   ]
  },
  {
   "cell_type": "code",
   "execution_count": 76,
   "id": "04224812-0856-4aeb-9a99-699607ef5df4",
   "metadata": {},
   "outputs": [],
   "source": [
    "rref = a.rref()"
   ]
  },
  {
   "cell_type": "code",
   "execution_count": 77,
   "id": "7b4e6365-2dda-435c-a423-9b1d707eb1b6",
   "metadata": {},
   "outputs": [
    {
     "data": {
      "text/plain": [
       "(Matrix([\n",
       " [1, 0],\n",
       " [0, 1]]),\n",
       " (0, 1))"
      ]
     },
     "execution_count": 77,
     "metadata": {},
     "output_type": "execute_result"
    }
   ],
   "source": [
    "rref"
   ]
  },
  {
   "cell_type": "code",
   "execution_count": 78,
   "id": "8e4cf5a0-fdea-4965-b9fc-16aab87594be",
   "metadata": {},
   "outputs": [
    {
     "data": {
      "text/plain": [
       "2"
      ]
     },
     "execution_count": 78,
     "metadata": {},
     "output_type": "execute_result"
    }
   ],
   "source": [
    "a.rank()"
   ]
  },
  {
   "cell_type": "code",
   "execution_count": null,
   "id": "dfcbed52-55ec-4239-b48f-afca10f09b81",
   "metadata": {},
   "outputs": [],
   "source": []
  }
 ],
 "metadata": {
  "kernelspec": {
   "display_name": "Python 3",
   "language": "python",
   "name": "python3"
  },
  "language_info": {
   "codemirror_mode": {
    "name": "ipython",
    "version": 3
   },
   "file_extension": ".py",
   "mimetype": "text/x-python",
   "name": "python",
   "nbconvert_exporter": "python",
   "pygments_lexer": "ipython3",
   "version": "3.7.0"
  }
 },
 "nbformat": 4,
 "nbformat_minor": 5
}
