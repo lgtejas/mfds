{
 "cells": [
  {
   "cell_type": "code",
   "execution_count": 39,
   "id": "0f637512-28f7-407b-9835-640fc9d51d2d",
   "metadata": {},
   "outputs": [],
   "source": [
    "import math\n",
    "import numpy as np\n",
    "from sympy import Matrix"
   ]
  },
  {
   "cell_type": "code",
   "execution_count": 40,
   "id": "300c5f99-7273-439e-95e7-31d60fc2a9ac",
   "metadata": {},
   "outputs": [],
   "source": [
    "a = [[2,-1,1],[1,0,1],[3,-1,4]]"
   ]
  },
  {
   "cell_type": "code",
   "execution_count": 41,
   "id": "8dac2f56-4eac-46ca-b6b1-8bea04494455",
   "metadata": {},
   "outputs": [],
   "source": [
    "mtx = Matrix(a)"
   ]
  },
  {
   "cell_type": "code",
   "execution_count": 42,
   "id": "baa89f53-3ebe-4631-b5cb-a3d92f5c5bbb",
   "metadata": {},
   "outputs": [
    {
     "data": {
      "text/latex": [
       "$\\displaystyle \\left[\\begin{matrix}2 & -1 & 1\\\\1 & 0 & 1\\\\3 & -1 & 4\\end{matrix}\\right]$"
      ],
      "text/plain": [
       "Matrix([\n",
       "[2, -1, 1],\n",
       "[1,  0, 1],\n",
       "[3, -1, 4]])"
      ]
     },
     "execution_count": 42,
     "metadata": {},
     "output_type": "execute_result"
    }
   ],
   "source": [
    "mtx"
   ]
  },
  {
   "cell_type": "code",
   "execution_count": 43,
   "id": "12faa3b1-d60f-4990-92cd-f56b7590a3b8",
   "metadata": {},
   "outputs": [],
   "source": [
    "inv_mtx = mtx.inv()"
   ]
  },
  {
   "cell_type": "code",
   "execution_count": 44,
   "id": "92d8dc52-7fbb-4504-ad08-3378316ddf1b",
   "metadata": {},
   "outputs": [
    {
     "data": {
      "text/latex": [
       "$\\displaystyle \\left[\\begin{matrix}\\frac{1}{2} & \\frac{3}{2} & - \\frac{1}{2}\\\\- \\frac{1}{2} & \\frac{5}{2} & - \\frac{1}{2}\\\\- \\frac{1}{2} & - \\frac{1}{2} & \\frac{1}{2}\\end{matrix}\\right]$"
      ],
      "text/plain": [
       "Matrix([\n",
       "[ 1/2,  3/2, -1/2],\n",
       "[-1/2,  5/2, -1/2],\n",
       "[-1/2, -1/2,  1/2]])"
      ]
     },
     "execution_count": 44,
     "metadata": {},
     "output_type": "execute_result"
    }
   ],
   "source": [
    "inv_mtx"
   ]
  },
  {
   "cell_type": "code",
   "execution_count": 46,
   "id": "02e7dd10-0df5-40e1-bc2f-e1b5c5ccc4c7",
   "metadata": {},
   "outputs": [],
   "source": [
    "mtx_norm = np.linalg.norm(mtx, ord=math.inf)"
   ]
  },
  {
   "cell_type": "code",
   "execution_count": 47,
   "id": "842d325b-7b5f-40e7-ab33-99948ac7450e",
   "metadata": {},
   "outputs": [],
   "source": [
    "inv_mtx_norm = np.linalg.norm(inv_mtx, ord=math.inf)"
   ]
  },
  {
   "cell_type": "code",
   "execution_count": 48,
   "id": "57f7678c-93c3-4294-afe3-286da6c7083c",
   "metadata": {},
   "outputs": [
    {
     "data": {
      "text/latex": [
       "$\\displaystyle 8$"
      ],
      "text/plain": [
       "8"
      ]
     },
     "execution_count": 48,
     "metadata": {},
     "output_type": "execute_result"
    }
   ],
   "source": [
    "mtx_norm"
   ]
  },
  {
   "cell_type": "code",
   "execution_count": 49,
   "id": "35fe7aef-91fa-4a9f-9736-1fa79284b606",
   "metadata": {},
   "outputs": [
    {
     "data": {
      "text/latex": [
       "$\\displaystyle \\frac{7}{2}$"
      ],
      "text/plain": [
       "7/2"
      ]
     },
     "execution_count": 49,
     "metadata": {},
     "output_type": "execute_result"
    }
   ],
   "source": [
    "inv_mtx_norm"
   ]
  },
  {
   "cell_type": "code",
   "execution_count": 50,
   "id": "00a4225a-593b-4ed6-a0e9-5f8152b18506",
   "metadata": {},
   "outputs": [],
   "source": [
    "condition_number = mtx_norm * inv_mtx_norm"
   ]
  },
  {
   "cell_type": "code",
   "execution_count": 51,
   "id": "454482a3-745d-40ef-8ba1-1acc6b261608",
   "metadata": {},
   "outputs": [
    {
     "data": {
      "text/latex": [
       "$\\displaystyle 28$"
      ],
      "text/plain": [
       "28"
      ]
     },
     "execution_count": 51,
     "metadata": {},
     "output_type": "execute_result"
    }
   ],
   "source": [
    "condition_number"
   ]
  },
  {
   "cell_type": "markdown",
   "id": "87ea7f83-c6e0-4190-9183-a70b7bddc742",
   "metadata": {},
   "source": [
    "The linear system is conditioned"
   ]
  },
  {
   "cell_type": "code",
   "execution_count": null,
   "id": "0897bd29-a8cb-4898-9f17-01ebc6799897",
   "metadata": {},
   "outputs": [],
   "source": []
  }
 ],
 "metadata": {
  "kernelspec": {
   "display_name": "Python 3",
   "language": "python",
   "name": "python3"
  },
  "language_info": {
   "codemirror_mode": {
    "name": "ipython",
    "version": 3
   },
   "file_extension": ".py",
   "mimetype": "text/x-python",
   "name": "python",
   "nbconvert_exporter": "python",
   "pygments_lexer": "ipython3",
   "version": "3.7.0"
  }
 },
 "nbformat": 4,
 "nbformat_minor": 5
}
