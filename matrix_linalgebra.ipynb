{
 "cells": [
  {
   "cell_type": "code",
   "execution_count": 1,
   "id": "50b0934b-5291-4c37-8428-23c7e5784841",
   "metadata": {},
   "outputs": [],
   "source": [
    "import numpy as np"
   ]
  },
  {
   "cell_type": "code",
   "execution_count": 5,
   "id": "f84c5c4c-6164-411a-992c-33c3aab0d60e",
   "metadata": {},
   "outputs": [],
   "source": [
    "coefficients = np.array([[4,6,9],[6,0,-2],[5,-8,1]])"
   ]
  },
  {
   "cell_type": "code",
   "execution_count": 3,
   "id": "bcd17d48-a124-41d1-a8ac-fe4ee4483831",
   "metadata": {},
   "outputs": [
    {
     "data": {
      "text/plain": [
       "[[4, 6, 9], [6, 0, -2], [5, -8, 1]]"
      ]
     },
     "execution_count": 3,
     "metadata": {},
     "output_type": "execute_result"
    }
   ],
   "source": [
    "coefficients"
   ]
  },
  {
   "cell_type": "code",
   "execution_count": 6,
   "id": "3adb08db-a998-41db-aff6-cb1acf7a96b1",
   "metadata": {},
   "outputs": [
    {
     "data": {
      "text/plain": [
       "(3, 3)"
      ]
     },
     "execution_count": 6,
     "metadata": {},
     "output_type": "execute_result"
    }
   ],
   "source": [
    "coefficients.shape"
   ]
  },
  {
   "cell_type": "code",
   "execution_count": 16,
   "id": "7b28e1fc-101d-4c0d-939f-3be94da2593f",
   "metadata": {},
   "outputs": [],
   "source": [
    "b = np.array([[6,20,10]])"
   ]
  },
  {
   "cell_type": "code",
   "execution_count": 17,
   "id": "4f4598e5-b923-4523-9869-e3162b5f7b49",
   "metadata": {},
   "outputs": [
    {
     "data": {
      "text/plain": [
       "array([[ 6, 20, 10]])"
      ]
     },
     "execution_count": 17,
     "metadata": {},
     "output_type": "execute_result"
    }
   ],
   "source": [
    "b"
   ]
  },
  {
   "cell_type": "code",
   "execution_count": 18,
   "id": "773e149e-7fc6-4e0a-a16d-edb6d71648a9",
   "metadata": {},
   "outputs": [
    {
     "data": {
      "text/plain": [
       "(1, 3)"
      ]
     },
     "execution_count": 18,
     "metadata": {},
     "output_type": "execute_result"
    }
   ],
   "source": [
    "b.shape"
   ]
  },
  {
   "cell_type": "code",
   "execution_count": 19,
   "id": "1169fde8-95f4-4771-8fcc-bdf290451f31",
   "metadata": {},
   "outputs": [],
   "source": [
    "b = b.T"
   ]
  },
  {
   "cell_type": "code",
   "execution_count": 20,
   "id": "d59391b5-5c06-457a-a39f-aabad03b86cb",
   "metadata": {},
   "outputs": [
    {
     "data": {
      "text/plain": [
       "(3, 1)"
      ]
     },
     "execution_count": 20,
     "metadata": {},
     "output_type": "execute_result"
    }
   ],
   "source": [
    "b.shape"
   ]
  },
  {
   "cell_type": "code",
   "execution_count": 21,
   "id": "0df6bff1-1832-421d-9823-43ac3ecf77ca",
   "metadata": {},
   "outputs": [
    {
     "data": {
      "text/plain": [
       "array([[ 6],\n",
       "       [20],\n",
       "       [10]])"
      ]
     },
     "execution_count": 21,
     "metadata": {},
     "output_type": "execute_result"
    }
   ],
   "source": [
    "b"
   ]
  },
  {
   "cell_type": "code",
   "execution_count": 13,
   "id": "4e7189e8-ffa5-4395-bc86-69c1a4ec2700",
   "metadata": {},
   "outputs": [
    {
     "data": {
      "text/plain": [
       "array([ 6, 20, 10])"
      ]
     },
     "execution_count": 13,
     "metadata": {},
     "output_type": "execute_result"
    }
   ],
   "source": [
    "b.T"
   ]
  },
  {
   "cell_type": "code",
   "execution_count": 23,
   "id": "3c3f1070-ccab-41d6-bb17-05d444238590",
   "metadata": {},
   "outputs": [],
   "source": [
    "solution = np.linalg.solve(coefficients, b)"
   ]
  },
  {
   "cell_type": "code",
   "execution_count": 24,
   "id": "1072a8a7-f6b9-404a-a1d0-36370ee858f3",
   "metadata": {},
   "outputs": [
    {
     "data": {
      "text/plain": [
       "array([[ 3. ],\n",
       "       [ 0.5],\n",
       "       [-1. ]])"
      ]
     },
     "execution_count": 24,
     "metadata": {},
     "output_type": "execute_result"
    }
   ],
   "source": [
    "solution"
   ]
  },
  {
   "cell_type": "code",
   "execution_count": null,
   "id": "23c69e19-6876-40b8-8840-94d2c619019e",
   "metadata": {},
   "outputs": [],
   "source": []
  }
 ],
 "metadata": {
  "kernelspec": {
   "display_name": "Python 3",
   "language": "python",
   "name": "python3"
  },
  "language_info": {
   "codemirror_mode": {
    "name": "ipython",
    "version": 3
   },
   "file_extension": ".py",
   "mimetype": "text/x-python",
   "name": "python",
   "nbconvert_exporter": "python",
   "pygments_lexer": "ipython3",
   "version": "3.7.0"
  }
 },
 "nbformat": 4,
 "nbformat_minor": 5
}
