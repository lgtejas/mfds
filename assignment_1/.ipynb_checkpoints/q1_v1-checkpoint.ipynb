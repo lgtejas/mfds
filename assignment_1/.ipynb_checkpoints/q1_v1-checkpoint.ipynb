{
 "cells": [
  {
   "cell_type": "code",
   "execution_count": 2,
   "id": "9bf5af5d-6e9b-4b48-9477-8b0827133a44",
   "metadata": {},
   "outputs": [],
   "source": [
    "import numpy as np\n"
   ]
  },
  {
   "cell_type": "code",
   "execution_count": 34,
   "id": "9bb6fba4-877d-49a9-bde8-5d726910501f",
   "metadata": {},
   "outputs": [],
   "source": [
    "sig_digits = 2\n",
    "eq_1 = np.random.uniform(low=0.5, high=13.3, size=(2,)).tolist()\n",
    "eq_2 =  np.random.uniform(low=0.5, high=13.3, size=(2,)).tolist()\n",
    "coefficients = np.array([eq_1, eq_2])\n",
    "rhs = np.random.uniform(low=0.5, high=13.3, size=(2,)).tolist()\n",
    "rhs = np.array(rhs)\n",
    "rhs = rhs.T\n"
   ]
  },
  {
   "cell_type": "code",
   "execution_count": 35,
   "id": "9583c4a6-2047-4f12-9369-4597ebb6d819",
   "metadata": {},
   "outputs": [
    {
     "data": {
      "text/plain": [
       "array([[ 2.23814605, 10.32756515],\n",
       "       [ 9.73763022,  9.69030286]])"
      ]
     },
     "execution_count": 35,
     "metadata": {},
     "output_type": "execute_result"
    }
   ],
   "source": [
    "coefficients"
   ]
  },
  {
   "cell_type": "code",
   "execution_count": 36,
   "id": "51c2c5ed-3886-4fda-9354-2ed08be8c614",
   "metadata": {},
   "outputs": [
    {
     "data": {
      "text/plain": [
       "(2,)"
      ]
     },
     "execution_count": 36,
     "metadata": {},
     "output_type": "execute_result"
    }
   ],
   "source": [
    "rhs.shape"
   ]
  },
  {
   "cell_type": "code",
   "execution_count": 37,
   "id": "d8396d4b-c3e4-4745-983e-81ff1238a6e3",
   "metadata": {},
   "outputs": [
    {
     "data": {
      "text/plain": [
       "(2, 2)"
      ]
     },
     "execution_count": 37,
     "metadata": {},
     "output_type": "execute_result"
    }
   ],
   "source": [
    "coefficients.shape"
   ]
  },
  {
   "cell_type": "code",
   "execution_count": 41,
   "id": "20c349f8-fe01-46bd-bc9c-5a2f66775bff",
   "metadata": {},
   "outputs": [],
   "source": [
    "coefficients = coefficients.round(sig_digits)\n",
    "rhs = rhs.round(sig_digits)"
   ]
  },
  {
   "cell_type": "code",
   "execution_count": 42,
   "id": "6ffc333d-438e-43d0-9fa6-c147d2a24c58",
   "metadata": {},
   "outputs": [
    {
     "data": {
      "text/plain": [
       "array([[ 2.24, 10.33],\n",
       "       [ 9.74,  9.69]])"
      ]
     },
     "execution_count": 42,
     "metadata": {},
     "output_type": "execute_result"
    }
   ],
   "source": [
    "coefficients"
   ]
  },
  {
   "cell_type": "code",
   "execution_count": 43,
   "id": "804bfc21-9ebe-4fda-a5b3-a2d951e241e3",
   "metadata": {},
   "outputs": [
    {
     "data": {
      "text/plain": [
       "array([8.15, 2.53])"
      ]
     },
     "execution_count": 43,
     "metadata": {},
     "output_type": "execute_result"
    }
   ],
   "source": [
    "rhs"
   ]
  },
  {
   "cell_type": "code",
   "execution_count": 45,
   "id": "2e50cf58-09ed-4592-864b-bc25e5b9ec66",
   "metadata": {},
   "outputs": [],
   "source": [
    "results = np.linalg.solve(coefficients, rhs).round(sig_digits)"
   ]
  },
  {
   "cell_type": "code",
   "execution_count": 46,
   "id": "0f8408d7-793f-4a79-9c57-2e06aa019999",
   "metadata": {},
   "outputs": [
    {
     "data": {
      "text/plain": [
       "array([-0.67,  0.93])"
      ]
     },
     "execution_count": 46,
     "metadata": {},
     "output_type": "execute_result"
    }
   ],
   "source": [
    "results"
   ]
  },
  {
   "cell_type": "code",
   "execution_count": null,
   "id": "5f128c47-c130-4abd-8bf3-94d44d61f469",
   "metadata": {},
   "outputs": [],
   "source": []
  }
 ],
 "metadata": {
  "kernelspec": {
   "display_name": "Python 3",
   "language": "python",
   "name": "python3"
  },
  "language_info": {
   "codemirror_mode": {
    "name": "ipython",
    "version": 3
   },
   "file_extension": ".py",
   "mimetype": "text/x-python",
   "name": "python",
   "nbconvert_exporter": "python",
   "pygments_lexer": "ipython3",
   "version": "3.7.0"
  }
 },
 "nbformat": 4,
 "nbformat_minor": 5
}
