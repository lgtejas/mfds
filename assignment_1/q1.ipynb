{
 "cells": [
  {
   "cell_type": "code",
   "execution_count": 1,
   "id": "6b59c678-8555-492c-8625-9fdd00b2b231",
   "metadata": {},
   "outputs": [],
   "source": [
    "import math\n",
    "import numpy as np"
   ]
  },
  {
   "cell_type": "code",
   "execution_count": 2,
   "id": "59e5266c-aa49-45a2-83c4-2a7032db3cde",
   "metadata": {},
   "outputs": [],
   "source": [
    "\n",
    "#eq_1 = np.random.uniform(low=0, high=13.3, size=(2,)).tolist()\n",
    "#eq_2 =  np.random.uniform(low=0, high=13.3, size=(2,)).tolist()\n",
    "#A = np.array([eq_1, eq_2])\n",
    "#b = np.random.uniform(low=0.5, high=13.3, size=(2,)).tolist()\n",
    "#b = np.array(b)\n",
    "#b = b.T\n",
    "\n",
    "#coefficients =np.array([[4.03,2.16],[6.21,3.35]])\n",
    "#res=np.array([-4.61,-7.19])\n",
    "#res=res.T"
   ]
  },
  {
   "cell_type": "code",
   "execution_count": 3,
   "id": "5a227ed9-9572-4ba0-b195-4874678563cb",
   "metadata": {},
   "outputs": [],
   "source": [
    "def roundoff(number, significant_digits):\n",
    "    d, n = math.modf(number)\n",
    "    count=0\n",
    "    num = n\n",
    "    while(num > 0):\n",
    "        num = num // 10\n",
    "        count = count + 1\n",
    "    if n == 0:\n",
    "        significant_digits = significant_digits-1\n",
    "    d = round(d, significant_digits-count)\n",
    "    return n+d"
   ]
  },
  {
   "cell_type": "code",
   "execution_count": 4,
   "id": "6a621c7b-e27a-4086-b252-ccb0fd5291db",
   "metadata": {},
   "outputs": [],
   "source": [
    "def roundoff_(number, significant_digits):\n",
    "    number = number + (5 * (10**(-(significant_digits+1))))\n",
    "    stepper = 10.0 ** significant_digits\n",
    "    number = math.trunc(stepper * number) / stepper\n",
    "    return number"
   ]
  },
  {
   "cell_type": "code",
   "execution_count": 5,
   "id": "e2513d6a-878b-4b50-890e-699de588932e",
   "metadata": {
    "tags": []
   },
   "outputs": [],
   "source": [
    "def np_roundoff_(numbers , significant_digits):\n",
    "    i=0\n",
    "    while(i < len(numbers)):\n",
    "        numbers[i] = numbers[i] + (5 * (10**(-(significant_digits+1))))\n",
    "        stepper = 10.0 ** significant_digits\n",
    "        numbers[i] = math.trunc(stepper * numbers[i]) / stepper\n",
    "        i =i+1\n",
    "    return numbers"
   ]
  },
  {
   "cell_type": "code",
   "execution_count": 15,
   "id": "803f421f-e1ab-4704-aeb1-8963de84e5c7",
   "metadata": {},
   "outputs": [],
   "source": [
    "def np_roundoff(numbers, significant_digits):\n",
    "    i=0\n",
    "    while(i < len(numbers)):\n",
    "        d, n = math.modf(numbers[i])\n",
    "        count=0\n",
    "        num = n\n",
    "        while(num > 0):\n",
    "            num = num // 10\n",
    "            count = count + 1\n",
    "        if n == 0:\n",
    "            significant_digits = significant_digits-1\n",
    "        d = round(d, significant_digits-count)\n",
    "        numbers[i] = n+d\n",
    "        i=i+1\n",
    "    return numbers"
   ]
  },
  {
   "cell_type": "code",
   "execution_count": 8,
   "id": "22bf1803-7179-479b-80d4-c99907d91afd",
   "metadata": {},
   "outputs": [],
   "source": [
    "def GENP(A, b):\n",
    "    '''\n",
    "    Gaussian elimination with no pivoting.\n",
    "    % input: A is an n x n nonsingular matrix\n",
    "    %        b is an n x 1 vector\n",
    "    % output: x is the solution of Ax=b.\n",
    "    % post-condition: A and b have been modified. \n",
    "    '''\n",
    "    n =  len(A)\n",
    "    if b.size != n:\n",
    "        raise ValueError(\"Invalid argument: incompatible sizes between A & b.\", b.size, n)\n",
    "    for pivot_row in range(n-1):\n",
    "        for row in range(pivot_row+1, n):\n",
    "            multiplier = A[row][pivot_row]/A[pivot_row][pivot_row]\n",
    "            multiplier = r(multiplier, sd) # roundoff\n",
    "            #the only one in this column since the rest are zero\n",
    "            A[row][pivot_row] = multiplier\n",
    "            for col in range(pivot_row + 1, n):\n",
    "                A[row][col] = A[row][col] - multiplier*A[pivot_row][col]\n",
    "                A[row][col]=r(A[row][col],sd) # roundoff\n",
    "                \n",
    "            #Equation solution column\n",
    "            b[row] = b[row] - multiplier*b[pivot_row]\n",
    "            b[row] = r(b[row],sd) #roundoff\n",
    "    x = np.zeros(n)\n",
    "    k = n-1\n",
    "    x[k] = b[k]/A[k,k]\n",
    "    x[k] = r(x[k],sd)\n",
    "    while k >= 0:\n",
    "        x[k] = (b[k] - np.dot(A[k,k+1:],x[k+1:]))/A[k,k]\n",
    "        x[k] = r(x[k],sd)\n",
    "        k = k-1\n",
    "    return x"
   ]
  },
  {
   "cell_type": "code",
   "execution_count": 9,
   "id": "59543d5e-b929-4a92-b655-a5dd98d65683",
   "metadata": {},
   "outputs": [],
   "source": [
    "def GEPP(A, b, doPricing = True):\n",
    "    '''\n",
    "    Gaussian elimination with partial pivoting.\n",
    "    \n",
    "    input: A is an n x n numpy matrix\n",
    "           b is an n x 1 numpy array\n",
    "    output: x is the solution of Ax=b \n",
    "            with the entries permuted in \n",
    "            accordance with the pivoting \n",
    "            done by the algorithm\n",
    "    post-condition: A and b have been modified.\n",
    "    '''\n",
    "    n = len(A)\n",
    "    if b.size != n:\n",
    "        raise ValueError(\"Invalid argument: incompatible sizes between\"+\n",
    "                         \"A & b.\", b.size, n)\n",
    "    # k represents the current pivot row. Since GE traverses the matrix in the \n",
    "    # upper right triangle, we also use k for indicating the k-th diagonal \n",
    "    # column index.\n",
    "    \n",
    "    # Elimination\n",
    "    for k in range(n-1):\n",
    "        if doPricing:\n",
    "            # Pivot\n",
    "            maxindex = abs(A[k:,k]).argmax() + k\n",
    "            if A[maxindex, k] == 0:\n",
    "                raise ValueError(\"Matrix is singular.\")\n",
    "            # Swap\n",
    "            if maxindex != k:\n",
    "                A[[k,maxindex]] = A[[maxindex, k]]\n",
    "                b[[k,maxindex]] = b[[maxindex, k]]\n",
    "        else:\n",
    "            if A[k, k] == 0:\n",
    "                raise ValueError(\"Pivot element is zero. Try setting doPricing to True.\")\n",
    "        #Eliminate\n",
    "        for row in range(k+1, n):\n",
    "            multiplier = A[row,k]/A[k,k]\n",
    "            multiplier = r(multiplier,sd) # roundoff\n",
    "            A[row, k:] = A[row, k:] - multiplier*A[k, k:]\n",
    "            A[row,k:] = nr(A[row,k:],sd) # roundoff\n",
    "            b[row] = b[row] - multiplier*b[k]\n",
    "            b[row] = r(b[row],sd) # roundoff\n",
    "    # Back Substitution\n",
    "    x = np.zeros(n)\n",
    "    for k in range(n-1, -1, -1):\n",
    "        x[k] = (b[k] - np.dot(A[k,k+1:],x[k+1:]))/A[k,k]\n",
    "        x[k] = r(x[k], sd) # roundoff\n",
    "    return x\n",
    "\n"
   ]
  },
  {
   "cell_type": "code",
   "execution_count": 33,
   "id": "ed5974ba-d57b-4f5a-9419-748a50d93bea",
   "metadata": {},
   "outputs": [],
   "source": [
    "sds=[3,4,5]\n",
    "\n",
    "eq_1 = np.random.uniform(low=1.3, high=10.3, size=(2,)).tolist()\n",
    "eq_2 =  np.random.uniform(low=1.3, high=10.3, size=(2,)).tolist()\n",
    "coeff = np.array([eq_1, eq_2])\n",
    "rhs = np.random.uniform(low=1.0, high=10.3, size=(2,)).tolist()\n",
    "rhs = np.array(rhs)\n",
    "rhs = rhs.T\n",
    "\n",
    "r = roundoff_\n",
    "nr = np_roundoff_"
   ]
  },
  {
   "cell_type": "code",
   "execution_count": 36,
   "id": "a6fe82fb-b941-433e-a2fd-82730e8b784c",
   "metadata": {},
   "outputs": [
    {
     "name": "stdout",
     "output_type": "stream",
     "text": [
      "Gauss elimination without pivoting ...\n",
      "coeffients -  [[2.47716403 3.28299248]\n",
      " [4.78046469 8.97875939]]\n",
      "\n",
      "rhs - [2.93357595 3.420466  ]\n",
      "\n",
      "significant_digit= 3, X1 = 2.307, X2= -0.847\n",
      "significant_digit= 4, X1 = 2.3076, X2= -0.8476\n",
      "significant_digit= 5, X1 = 2.30776, X2= -0.84774\n"
     ]
    }
   ],
   "source": [
    "print('Gauss elimination without pivoting ...')\n",
    "print('coeffients - ', coeff)\n",
    "print()\n",
    "print('rhs -', rhs)\n",
    "print()\n",
    "for sig_digit in sds:\n",
    "    sd = sig_digit\n",
    "    res = GENP(np.copy(coeff), np.copy(rhs))\n",
    "    print(f'significant_digit= {sd}, X1 = {res[0]}, X2= {res[1]}')"
   ]
  },
  {
   "cell_type": "code",
   "execution_count": 37,
   "id": "b7a2932c-e1a9-4be4-bd07-4d77c411b607",
   "metadata": {},
   "outputs": [
    {
     "name": "stdout",
     "output_type": "stream",
     "text": [
      "Gauss elimination without pivoting ...\n",
      "coeffients -  [[2.47716403 3.28299248]\n",
      " [4.78046469 8.97875939]]\n",
      "\n",
      "rhs - [2.93357595 3.420466  ]\n",
      "\n",
      "significant_digit= 3, X1 = 2.31, X2= -0.849\n",
      "significant_digit= 4, X1 = 2.3075, X2= -0.8476\n",
      "significant_digit= 5, X1 = 2.30784, X2= -0.84779\n"
     ]
    }
   ],
   "source": [
    "print('Gauss elimination without pivoting ...')\n",
    "print('coeffients - ', coeff)\n",
    "print()\n",
    "print('rhs -', rhs)\n",
    "print()\n",
    "for sig_digit in sds:\n",
    "    sd = sig_digit\n",
    "    res = GEPP(np.copy(coeff), np.copy(rhs))\n",
    "    print(f'significant_digit= {sd}, X1 = {res[0]}, X2= {res[1]}')"
   ]
  },
  {
   "cell_type": "code",
   "execution_count": null,
   "id": "af358fbf-9c01-4bdd-8242-1e7080508b9e",
   "metadata": {},
   "outputs": [],
   "source": []
  }
 ],
 "metadata": {
  "kernelspec": {
   "display_name": "Python 3",
   "language": "python",
   "name": "python3"
  },
  "language_info": {
   "codemirror_mode": {
    "name": "ipython",
    "version": 3
   },
   "file_extension": ".py",
   "mimetype": "text/x-python",
   "name": "python",
   "nbconvert_exporter": "python",
   "pygments_lexer": "ipython3",
   "version": "3.8.5"
  }
 },
 "nbformat": 4,
 "nbformat_minor": 5
}
