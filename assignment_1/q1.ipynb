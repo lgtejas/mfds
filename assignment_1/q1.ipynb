{
 "cells": [
  {
   "cell_type": "code",
   "execution_count": 2,
   "id": "9bf5af5d-6e9b-4b48-9477-8b0827133a44",
   "metadata": {},
   "outputs": [],
   "source": [
    "import numpy as np\n"
   ]
  },
  {
   "cell_type": "code",
   "execution_count": 173,
   "id": "9bb6fba4-877d-49a9-bde8-5d726910501f",
   "metadata": {},
   "outputs": [],
   "source": [
    "sig_digits = 4\n",
    "eq_1 = np.random.uniform(low=0.5, high=13.3, size=(2,)).tolist()\n",
    "eq_2 =  np.random.uniform(low=0.5, high=13.3, size=(2,)).tolist()\n",
    "coefficients = np.array([eq_1, eq_2])\n",
    "rhs = np.random.uniform(low=0.5, high=13.3, size=(2,)).tolist()\n",
    "rhs = np.array(rhs)\n",
    "rhs = rhs.T\n"
   ]
  },
  {
   "cell_type": "code",
   "execution_count": 174,
   "id": "9583c4a6-2047-4f12-9369-4597ebb6d819",
   "metadata": {},
   "outputs": [
    {
     "data": {
      "text/plain": [
       "array([[11.19939297, 10.31541881],\n",
       "       [13.15505447, 11.11654096]])"
      ]
     },
     "execution_count": 174,
     "metadata": {},
     "output_type": "execute_result"
    }
   ],
   "source": [
    "coefficients"
   ]
  },
  {
   "cell_type": "code",
   "execution_count": 175,
   "id": "51c2c5ed-3886-4fda-9354-2ed08be8c614",
   "metadata": {},
   "outputs": [
    {
     "data": {
      "text/plain": [
       "(2,)"
      ]
     },
     "execution_count": 175,
     "metadata": {},
     "output_type": "execute_result"
    }
   ],
   "source": [
    "rhs.shape"
   ]
  },
  {
   "cell_type": "code",
   "execution_count": 176,
   "id": "d8396d4b-c3e4-4745-983e-81ff1238a6e3",
   "metadata": {},
   "outputs": [
    {
     "data": {
      "text/plain": [
       "(2, 2)"
      ]
     },
     "execution_count": 176,
     "metadata": {},
     "output_type": "execute_result"
    }
   ],
   "source": [
    "coefficients.shape"
   ]
  },
  {
   "cell_type": "code",
   "execution_count": 177,
   "id": "20c349f8-fe01-46bd-bc9c-5a2f66775bff",
   "metadata": {},
   "outputs": [],
   "source": [
    "coefficients = coefficients.round(sig_digits)\n",
    "rhs = rhs.round(sig_digits)"
   ]
  },
  {
   "cell_type": "code",
   "execution_count": 178,
   "id": "6ffc333d-438e-43d0-9fa6-c147d2a24c58",
   "metadata": {},
   "outputs": [
    {
     "data": {
      "text/plain": [
       "array([[11.1994, 10.3154],\n",
       "       [13.1551, 11.1165]])"
      ]
     },
     "execution_count": 178,
     "metadata": {},
     "output_type": "execute_result"
    }
   ],
   "source": [
    "coefficients"
   ]
  },
  {
   "cell_type": "code",
   "execution_count": 179,
   "id": "804bfc21-9ebe-4fda-a5b3-a2d951e241e3",
   "metadata": {},
   "outputs": [
    {
     "data": {
      "text/plain": [
       "array([11.9583,  1.2409])"
      ]
     },
     "execution_count": 179,
     "metadata": {},
     "output_type": "execute_result"
    }
   ],
   "source": [
    "rhs"
   ]
  },
  {
   "cell_type": "code",
   "execution_count": 182,
   "id": "5f128c47-c130-4abd-8bf3-94d44d61f469",
   "metadata": {},
   "outputs": [],
   "source": [
    "def Cal_LU(D,g):\n",
    "    A=np.array((D),dtype=float)\n",
    "    f=np.array((g),dtype=float)\n",
    "    n = f.size\n",
    "    for i in range(0,n-1):     # Loop through the columns of the matrix\n",
    "        for j in range(i+1,n):     # Loop through rows below diagonal for each column\n",
    "            if A[i,i] == 0:\n",
    "                print(\"Error: Zero on diagonal!\")\n",
    "                print(\"Need algorithm with pivoting\")\n",
    "                break\n",
    "            m = A[j,i].round(sig_digits)/A[i,i].round(sig_digits)\n",
    "            A[j,:] = A[j,:].round(sig_digits) - m*A[i,:].round(sig_digits)\n",
    "            f[j] = f[j].round(sig_digits) - m*f[i].round(sig_digits)\n",
    "    return A.round(sig_digits),f.round(sig_digits)"
   ]
  },
  {
   "cell_type": "code",
   "execution_count": 183,
   "id": "635f631c-0563-46b3-852a-b6ce3c29c031",
   "metadata": {},
   "outputs": [],
   "source": [
    "def Back_Subs(A,f):\n",
    "    n = f.size\n",
    "    x = np.zeros(n)             # Initialize the solution vector, x, to zero\n",
    "    x[n-1] = f[n-1].round(sig_digits)/A[n-1,n-1].round(sig_digits)    # Solve for last entry first\n",
    "    for i in range(n-2,-1,-1):      # Loop from the end to the beginning\n",
    "        sum_ = 0\n",
    "        for j in range(i+1,n):        # For known x values, sum and move to rhs\n",
    "            sum_ = sum_ + A[i,j].round(sig_digits)*x[j].round(sig_digits)\n",
    "        x[i] = (f[i].round(sig_digits) - sum_)/A[i,i].round(sig_digits)\n",
    "    return x.round(sig_digits)"
   ]
  },
  {
   "cell_type": "code",
   "execution_count": 184,
   "id": "1af925b6-b3b3-442a-99c5-dacc29006a96",
   "metadata": {},
   "outputs": [],
   "source": [
    "def Cal_LU_pivot(D,g):\n",
    "    A=np.array((D),dtype=float)\n",
    "    f=np.array((g),dtype=float)\n",
    "    n = len(f)\n",
    "    for i in range(0,n-1):     # Loop through the columns of the matrix\n",
    "        \n",
    "        if np.abs(A[i,i].round(sig_digits))==0:\n",
    "            for k in range(i+1,n):\n",
    "                if np.abs(A[k,i].round(sig_digits))>np.abs(A[i,i].round(sig_digits)):\n",
    "                    A[[i,k]]=A[[k,i]].round(sig_digits)            # Swaps ith and kth rows to each other\n",
    "                    f[[i,k]]=f[[k,i]].round(sig_digits)\n",
    "                    break\n",
    "                    \n",
    "        for j in range(i+1,n):     # Loop through rows below diagonal for each column\n",
    "            m = A[j,i].round(sig_digits)/A[i,i].round(sig_digits)\n",
    "            A[j,:] = A[j,:].round(sig_digits) - m*A[i,:].round(sig_digits)\n",
    "            f[j] = f[j].round(sig_digits) - m*f[i].round(sig_digits)\n",
    "    return A.round(sig_digits),f.round(sig_digits)"
   ]
  },
  {
   "cell_type": "code",
   "execution_count": 185,
   "id": "eb52a176-6b22-456d-b61f-93af091b5efe",
   "metadata": {},
   "outputs": [],
   "source": [
    "B, g = Cal_LU(coefficients, rhs)"
   ]
  },
  {
   "cell_type": "code",
   "execution_count": 186,
   "id": "d302d221-0eaa-4b1e-b63f-315c3bc11ccd",
   "metadata": {},
   "outputs": [
    {
     "data": {
      "text/plain": [
       "array([[11.1994, 10.3154],\n",
       "       [ 0.    , -1.0002]])"
      ]
     },
     "execution_count": 186,
     "metadata": {},
     "output_type": "execute_result"
    }
   ],
   "source": [
    "B"
   ]
  },
  {
   "cell_type": "code",
   "execution_count": 187,
   "id": "312e3d4c-19a5-40f2-a8b2-9fd3aa3e25ca",
   "metadata": {},
   "outputs": [
    {
     "data": {
      "text/plain": [
       "array([ 11.9583, -12.8056])"
      ]
     },
     "execution_count": 187,
     "metadata": {},
     "output_type": "execute_result"
    }
   ],
   "source": [
    "g"
   ]
  },
  {
   "cell_type": "code",
   "execution_count": 188,
   "id": "40913a8f-76ea-4299-9e47-cb22422a5e2f",
   "metadata": {},
   "outputs": [],
   "source": [
    "x = Back_Subs(B,g)"
   ]
  },
  {
   "cell_type": "code",
   "execution_count": 199,
   "id": "cdf8f42e-ebc5-418a-81b9-cf75e88981f6",
   "metadata": {},
   "outputs": [
    {
     "name": "stdout",
     "output_type": "stream",
     "text": [
      "Coefficients = [[11.1994 10.3154]\n",
      " [13.1551 11.1165]]\n",
      "\n",
      "\n",
      "RHS = [11.9583  1.2409]\n",
      "\n",
      "\n",
      "x1 = -10.7247, x2 = 12.803\n"
     ]
    }
   ],
   "source": [
    "print(f'Coefficients = {coefficients}')\n",
    "print('\\n')\n",
    "print(f'RHS = {rhs}')\n",
    "print('\\n')\n",
    "print(f'x1 = {x[0]}, x2 = {x[1]}')"
   ]
  },
  {
   "cell_type": "code",
   "execution_count": 193,
   "id": "3e11854e-4590-472c-ab1a-c5c5bc1ecaf9",
   "metadata": {},
   "outputs": [
    {
     "name": "stdout",
     "output_type": "stream",
     "text": [
      "Linalg results are below\n",
      "[-10.7244  12.8027]\n"
     ]
    }
   ],
   "source": [
    "print('Linalg results are below')\n",
    "print(np.linalg.solve(coefficients, rhs).round(sig_digits))"
   ]
  },
  {
   "cell_type": "code",
   "execution_count": null,
   "id": "c022d3aa-877f-45dc-aff2-51129da3701f",
   "metadata": {},
   "outputs": [],
   "source": []
  }
 ],
 "metadata": {
  "kernelspec": {
   "display_name": "Python 3",
   "language": "python",
   "name": "python3"
  },
  "language_info": {
   "codemirror_mode": {
    "name": "ipython",
    "version": 3
   },
   "file_extension": ".py",
   "mimetype": "text/x-python",
   "name": "python",
   "nbconvert_exporter": "python",
   "pygments_lexer": "ipython3",
   "version": "3.7.0"
  }
 },
 "nbformat": 4,
 "nbformat_minor": 5
}
