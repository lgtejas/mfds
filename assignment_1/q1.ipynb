{
 "cells": [
  {
   "cell_type": "code",
   "execution_count": 1,
   "id": "5d720303-8fb0-4fa1-a7be-ecb2afb823e4",
   "metadata": {},
   "outputs": [],
   "source": [
    "import math\n",
    "import numpy as np"
   ]
  },
  {
   "cell_type": "code",
   "execution_count": 2,
   "id": "b1ad1ac8-9031-4901-90a4-e48e969ab3a5",
   "metadata": {},
   "outputs": [],
   "source": [
    "sig_digits = 4\n",
    "eq_1 = np.random.uniform(low=0, high=13.3, size=(2,)).tolist()\n",
    "eq_2 =  np.random.uniform(low=0, high=13.3, size=(2,)).tolist()\n",
    "A = np.array([eq_1, eq_2])\n",
    "b = np.random.uniform(low=0.5, high=13.3, size=(2,)).tolist()\n",
    "b = np.array(b)\n",
    "b = b.T"
   ]
  },
  {
   "cell_type": "code",
   "execution_count": 3,
   "id": "12128a02-799a-441a-b118-3967b361fbaf",
   "metadata": {},
   "outputs": [],
   "source": [
    "def Cal_LU(D,g, r, sd):\n",
    "    A=np.array((D),dtype=float)\n",
    "    f=np.array((g),dtype=float)\n",
    "    n = f.size\n",
    "    for i in range(0,n-1):     # Loop through the columns of the matrix\n",
    "        for j in range(i+1,n):     # Loop through rows below diagonal for each column\n",
    "            if A[i,i] == 0:\n",
    "                print(\"Error: Zero on diagonal!\")\n",
    "                print(\"Need algorithm with pivoting\")\n",
    "                break\n",
    "            m = A[j,i]/A[i,i]\n",
    "            m=r(m,sd) # perform round off\n",
    "            A[j,:] = A[j,:] - m*A[i,:]\n",
    "            f[j]\n",
    "    return A,f\n",
    "\n",
    "\n",
    "def Cal_LU_pivot(D,g, r,sd):\n",
    "    A=np.array((D),dtype=float)\n",
    "    f=np.array((g),dtype=float)\n",
    "    n = len(f)\n",
    "    for i in range(0,n-1):     # Loop through the columns of the matrix\n",
    "        \n",
    "        if np.abs(A[i,i])==0:\n",
    "            for k in range(i+1,n):\n",
    "                if np.abs(A[k,i])>np.abs(A[i,i]):\n",
    "                    A[[i,k]]=A[[k,i]]             # Swaps ith and kth rows to each other\n",
    "                    f[[i,k]]=f[[k,i]]\n",
    "                    break\n",
    "                    \n",
    "        for j in range(i+1,n):     # Loop through rows below diagonal for each column\n",
    "            m = A[j,i]/A[i,i]\n",
    "            m = r(m,sd) # perform roundoff\n",
    "            A[j,:] = A[j,:] - m*A[i,:]\n",
    "            f[j] = f[j] - m*f[i]\n",
    "    return A,f\n",
    "\n",
    "\n",
    "def Back_Subs(A,f):\n",
    "    n = f.size\n",
    "    x = np.zeros(n)             # Initialize the solution vector, x, to zero\n",
    "    x[n-1] = f[n-1]/A[n-1,n-1]    # Solve for last entry first\n",
    "    for i in range(n-2,-1,-1):      # Loop from the end to the beginning\n",
    "        sum_ = 0\n",
    "        for j in range(i+1,n):        # For known x values, sum and move to rhs\n",
    "            sum_ = sum_ + A[i,j]*x[j]\n",
    "        x[i] = (f[i] - sum_)/A[i,i]\n",
    "    return x"
   ]
  },
  {
   "cell_type": "code",
   "execution_count": 4,
   "id": "1247f1f6-95b7-4bdc-8159-269136bbfd62",
   "metadata": {},
   "outputs": [],
   "source": [
    "def roundoff_(number, significant_digits):\n",
    "    number = number + (5 * (10**(-(significant_digits+1))))\n",
    "    stepper = 10.0 ** significant_digits\n",
    "    number = math.trunc(stepper * number) / stepper\n",
    "    return number"
   ]
  },
  {
   "cell_type": "code",
   "execution_count": 36,
   "id": "17ce1753-68f4-4c36-8a29-cac82abd1f70",
   "metadata": {},
   "outputs": [],
   "source": [
    "def roundoff(number, significant_digits):\n",
    "    d, n = math.modf(number)\n",
    "    count=0\n",
    "    num = n\n",
    "    while(num > 0):\n",
    "        num = num // 10\n",
    "        count = count + 1\n",
    "    if d == 0:\n",
    "        significant_digits = significant_digits-1\n",
    "    d = round(d, significant_digits-count)\n",
    "    return n+d"
   ]
  },
  {
   "cell_type": "code",
   "execution_count": 6,
   "id": "c792cef1-d954-4bce-bc71-b3111db72715",
   "metadata": {
    "tags": []
   },
   "outputs": [],
   "source": [
    "def ge_with_pivot(A, b, r=roundoff, sd=2):\n",
    "    A, f = Cal_LU_pivot(A, b, r=r,sd=sd)\n",
    "    return Back_Subs(A,f)"
   ]
  },
  {
   "cell_type": "code",
   "execution_count": 7,
   "id": "6362d86b-3138-43fc-92cb-10b052115fa1",
   "metadata": {},
   "outputs": [],
   "source": [
    "def ge_without_pivot(A,b, r=roundoff,sd=2):\n",
    "    A,f = Cal_LU(A,b, r=r,sd=sd)\n",
    "    return Back_Subs(A,f)"
   ]
  },
  {
   "cell_type": "code",
   "execution_count": 29,
   "id": "0ac6dd4f-edc0-4eb0-b545-2b9df579a314",
   "metadata": {},
   "outputs": [
    {
     "data": {
      "text/plain": [
       "array([-1.86473961,  5.09243443])"
      ]
     },
     "execution_count": 29,
     "metadata": {},
     "output_type": "execute_result"
    }
   ],
   "source": [
    "ge_without_pivot(A,b,sd=3)"
   ]
  },
  {
   "cell_type": "code",
   "execution_count": 30,
   "id": "5d21a7dc-e0c8-4692-a603-1d33ca8bf315",
   "metadata": {},
   "outputs": [
    {
     "data": {
      "text/plain": [
       "array([-1.86473961,  5.09243443])"
      ]
     },
     "execution_count": 30,
     "metadata": {},
     "output_type": "execute_result"
    }
   ],
   "source": [
    "ge_without_pivot(A,b,r=roundoff_,sd=3)"
   ]
  },
  {
   "cell_type": "code",
   "execution_count": 31,
   "id": "d2f7fb15-90a5-4597-9f4c-fb8792d6b75e",
   "metadata": {},
   "outputs": [
    {
     "data": {
      "text/plain": [
       "array([-1.47535599,  4.41267179])"
      ]
     },
     "execution_count": 31,
     "metadata": {},
     "output_type": "execute_result"
    }
   ],
   "source": [
    "ge_with_pivot(A,b,sd=3)"
   ]
  },
  {
   "cell_type": "code",
   "execution_count": 32,
   "id": "6af7a081-31bb-4da1-a42d-c32cdb0c6b46",
   "metadata": {},
   "outputs": [
    {
     "data": {
      "text/plain": [
       "array([-1.47535599,  4.41267179])"
      ]
     },
     "execution_count": 32,
     "metadata": {},
     "output_type": "execute_result"
    }
   ],
   "source": [
    "ge_with_pivot(A,b,r=roundoff_,sd=3)"
   ]
  },
  {
   "cell_type": "code",
   "execution_count": 37,
   "id": "8974257b-69de-4a1f-8fc4-76f16135ad76",
   "metadata": {},
   "outputs": [
    {
     "data": {
      "text/plain": [
       "0.021"
      ]
     },
     "execution_count": 37,
     "metadata": {},
     "output_type": "execute_result"
    }
   ],
   "source": [
    "roundoff(0.02133, 3)"
   ]
  },
  {
   "cell_type": "code",
   "execution_count": null,
   "id": "07cdd318-46ed-48e8-8744-fbb1d3538ba3",
   "metadata": {},
   "outputs": [],
   "source": []
  }
 ],
 "metadata": {
  "kernelspec": {
   "display_name": "Python 3",
   "language": "python",
   "name": "python3"
  },
  "language_info": {
   "codemirror_mode": {
    "name": "ipython",
    "version": 3
   },
   "file_extension": ".py",
   "mimetype": "text/x-python",
   "name": "python",
   "nbconvert_exporter": "python",
   "pygments_lexer": "ipython3",
   "version": "3.7.0"
  }
 },
 "nbformat": 4,
 "nbformat_minor": 5
}
