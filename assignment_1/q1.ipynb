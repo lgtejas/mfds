{
 "cells": [
  {
   "cell_type": "code",
   "execution_count": 1,
   "id": "5d720303-8fb0-4fa1-a7be-ecb2afb823e4",
   "metadata": {},
   "outputs": [],
   "source": [
    "import numpy as np"
   ]
  },
  {
   "cell_type": "code",
   "execution_count": 2,
   "id": "b1ad1ac8-9031-4901-90a4-e48e969ab3a5",
   "metadata": {},
   "outputs": [],
   "source": [
    "sig_digits = 4\n",
    "eq_1 = np.random.uniform(low=0, high=13.3, size=(2,)).tolist()\n",
    "eq_2 =  np.random.uniform(low=0, high=13.3, size=(2,)).tolist()\n",
    "A = np.array([eq_1, eq_2])\n",
    "b = np.random.uniform(low=0.5, high=13.3, size=(2,)).tolist()\n",
    "b = np.array(b)\n",
    "b = b.T"
   ]
  },
  {
   "cell_type": "code",
   "execution_count": 3,
   "id": "12128a02-799a-441a-b118-3967b361fbaf",
   "metadata": {},
   "outputs": [],
   "source": [
    "def Cal_LU(D,g):\n",
    "    A=np.array((D),dtype=float)\n",
    "    f=np.array((g),dtype=float)\n",
    "    n = f.size\n",
    "    for i in range(0,n-1):     # Loop through the columns of the matrix\n",
    "        for j in range(i+1,n):     # Loop through rows below diagonal for each column\n",
    "            if A[i,i] == 0:\n",
    "                print(\"Error: Zero on diagonal!\")\n",
    "                print(\"Need algorithm with pivoting\")\n",
    "                break\n",
    "            m = A[j,i]/A[i,i]\n",
    "            A[j,:] = A[j,:] - m*A[i,:]\n",
    "            f[j]\n",
    "    return A,f\n",
    "\n",
    "\n",
    "def Cal_LU_pivot(D,g):\n",
    "    A=np.array((D),dtype=float)\n",
    "    f=np.array((g),dtype=float)\n",
    "    n = len(f)\n",
    "    for i in range(0,n-1):     # Loop through the columns of the matrix\n",
    "        \n",
    "        if np.abs(A[i,i])==0:\n",
    "            for k in range(i+1,n):\n",
    "                if np.abs(A[k,i])>np.abs(A[i,i]):\n",
    "                    A[[i,k]]=A[[k,i]]             # Swaps ith and kth rows to each other\n",
    "                    f[[i,k]]=f[[k,i]]\n",
    "                    break\n",
    "                    \n",
    "        for j in range(i+1,n):     # Loop through rows below diagonal for each column\n",
    "            m = A[j,i]/A[i,i]\n",
    "            A[j,:] = A[j,:] - m*A[i,:]\n",
    "            f[j] = f[j] - m*f[i]\n",
    "    return A,f\n",
    "\n",
    "\n",
    "def Back_Subs(A,f):\n",
    "    n = f.size\n",
    "    x = np.zeros(n)             # Initialize the solution vector, x, to zero\n",
    "    x[n-1] = f[n-1]/A[n-1,n-1]    # Solve for last entry first\n",
    "    for i in range(n-2,-1,-1):      # Loop from the end to the beginning\n",
    "        sum_ = 0\n",
    "        for j in range(i+1,n):        # For known x values, sum and move to rhs\n",
    "            sum_ = sum_ + A[i,j]*x[j]\n",
    "        x[i] = (f[i] - sum_)/A[i,i]\n",
    "    return x"
   ]
  },
  {
   "cell_type": "code",
   "execution_count": 4,
   "id": "c792cef1-d954-4bce-bc71-b3111db72715",
   "metadata": {},
   "outputs": [],
   "source": [
    "def ge_with_pivot(A, b):\n",
    "    A, f = Cal_LU_pivot(A, b)\n",
    "    return Back_Subs(A,f)"
   ]
  },
  {
   "cell_type": "code",
   "execution_count": 5,
   "id": "6362d86b-3138-43fc-92cb-10b052115fa1",
   "metadata": {},
   "outputs": [],
   "source": [
    "def ge_without_pivot(A,b):\n",
    "    A,f = Cal_LU(A,b)\n",
    "    return Back_Subs(A,f)"
   ]
  },
  {
   "cell_type": "code",
   "execution_count": 6,
   "id": "0ac6dd4f-edc0-4eb0-b545-2b9df579a314",
   "metadata": {},
   "outputs": [],
   "source": [
    "u = ge_without_pivot(A,b)"
   ]
  },
  {
   "cell_type": "code",
   "execution_count": 7,
   "id": "5d21a7dc-e0c8-4692-a603-1d33ca8bf315",
   "metadata": {},
   "outputs": [],
   "source": [
    "u_p = ge_with_pivot(A,b)"
   ]
  },
  {
   "cell_type": "code",
   "execution_count": 8,
   "id": "7aa899e1-af48-49c8-8ce4-004f39e201ed",
   "metadata": {},
   "outputs": [
    {
     "data": {
      "text/plain": [
       "array([1.13691556, 0.29769208])"
      ]
     },
     "execution_count": 8,
     "metadata": {},
     "output_type": "execute_result"
    }
   ],
   "source": [
    "u"
   ]
  },
  {
   "cell_type": "code",
   "execution_count": 9,
   "id": "56dc958e-72a7-4a4f-9bcc-c6df097c8a42",
   "metadata": {},
   "outputs": [
    {
     "data": {
      "text/plain": [
       "array([ 1.64958558, -1.7864234 ])"
      ]
     },
     "execution_count": 9,
     "metadata": {},
     "output_type": "execute_result"
    }
   ],
   "source": [
    "u_p"
   ]
  },
  {
   "cell_type": "code",
   "execution_count": 10,
   "id": "50168a24-7337-44e0-b0fd-fdab1ef9d763",
   "metadata": {},
   "outputs": [
    {
     "data": {
      "text/plain": [
       "array([ 1.64958558, -1.7864234 ])"
      ]
     },
     "execution_count": 10,
     "metadata": {},
     "output_type": "execute_result"
    }
   ],
   "source": [
    "np.linalg.solve(A,b)"
   ]
  },
  {
   "cell_type": "code",
   "execution_count": null,
   "id": "7f48ebbe-d685-4786-942c-77b8c52d210d",
   "metadata": {},
   "outputs": [],
   "source": []
  }
 ],
 "metadata": {
  "kernelspec": {
   "display_name": "Python 3",
   "language": "python",
   "name": "python3"
  },
  "language_info": {
   "codemirror_mode": {
    "name": "ipython",
    "version": 3
   },
   "file_extension": ".py",
   "mimetype": "text/x-python",
   "name": "python",
   "nbconvert_exporter": "python",
   "pygments_lexer": "ipython3",
   "version": "3.7.0"
  }
 },
 "nbformat": 4,
 "nbformat_minor": 5
}
