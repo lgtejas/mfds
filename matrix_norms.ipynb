{
 "cells": [
  {
   "cell_type": "code",
   "execution_count": 13,
   "id": "6b498495-ca70-4a77-b7e9-08b4ec934929",
   "metadata": {},
   "outputs": [],
   "source": [
    "import math\n",
    "import numpy as np\n",
    "from sympy import Matrix"
   ]
  },
  {
   "cell_type": "code",
   "execution_count": 18,
   "id": "c4667ceb-0dd3-4354-92d5-abf80a0e22c6",
   "metadata": {},
   "outputs": [],
   "source": [
    "a = np.array([[1,-7],[-2,-3]])\n",
    "mtx = Matrix(a)"
   ]
  },
  {
   "cell_type": "code",
   "execution_count": 19,
   "id": "d1f94973-fb7b-4525-98d0-58def36b5064",
   "metadata": {},
   "outputs": [
    {
     "data": {
      "text/latex": [
       "$\\displaystyle \\left[\\begin{matrix}1 & -7\\\\-2 & -3\\end{matrix}\\right]$"
      ],
      "text/plain": [
       "Matrix([\n",
       "[ 1, -7],\n",
       "[-2, -3]])"
      ]
     },
     "execution_count": 19,
     "metadata": {},
     "output_type": "execute_result"
    }
   ],
   "source": [
    "mtx"
   ]
  },
  {
   "cell_type": "markdown",
   "id": "450ae558-c713-4c7c-910f-ecd29478d83a",
   "metadata": {},
   "source": [
    "L1 norm "
   ]
  },
  {
   "cell_type": "code",
   "execution_count": 20,
   "id": "170f50cc-7eaf-4c27-bd30-92279c786a39",
   "metadata": {},
   "outputs": [
    {
     "data": {
      "text/latex": [
       "$\\displaystyle 10$"
      ],
      "text/plain": [
       "10"
      ]
     },
     "execution_count": 20,
     "metadata": {},
     "output_type": "execute_result"
    }
   ],
   "source": [
    "mtx.norm(ord=1)"
   ]
  },
  {
   "cell_type": "code",
   "execution_count": 31,
   "id": "17829e3a-47c7-4dce-a7e7-df89c122cbdb",
   "metadata": {},
   "outputs": [
    {
     "data": {
      "text/plain": [
       "10.0"
      ]
     },
     "execution_count": 31,
     "metadata": {},
     "output_type": "execute_result"
    }
   ],
   "source": [
    "np.linalg.norm(a, ord=1)"
   ]
  },
  {
   "cell_type": "markdown",
   "id": "f72e5348-dd31-4737-9e01-440eaa4cf643",
   "metadata": {},
   "source": [
    "Infinite norm"
   ]
  },
  {
   "cell_type": "code",
   "execution_count": 33,
   "id": "4926fb8a-b716-44e1-9d38-05510d76f03c",
   "metadata": {},
   "outputs": [
    {
     "data": {
      "text/plain": [
       "8.0"
      ]
     },
     "execution_count": 33,
     "metadata": {},
     "output_type": "execute_result"
    }
   ],
   "source": [
    "np.linalg.norm(a,ord=math.inf)"
   ]
  },
  {
   "cell_type": "markdown",
   "id": "b623374f-ac86-46bf-837f-05e4aa53390f",
   "metadata": {},
   "source": [
    "Froibinous norm or Eucledian norm"
   ]
  },
  {
   "cell_type": "code",
   "execution_count": 36,
   "id": "084c8859-dba7-4b2b-b211-74cbe8d4113e",
   "metadata": {},
   "outputs": [
    {
     "data": {
      "text/latex": [
       "$\\displaystyle 3 \\sqrt{7}$"
      ],
      "text/plain": [
       "3*sqrt(7)"
      ]
     },
     "execution_count": 36,
     "metadata": {},
     "output_type": "execute_result"
    }
   ],
   "source": [
    "mtx.norm(ord='fro')"
   ]
  },
  {
   "cell_type": "code",
   "execution_count": null,
   "id": "8b1e6a89-7ae4-4207-ba7c-75819cf242f9",
   "metadata": {},
   "outputs": [],
   "source": []
  }
 ],
 "metadata": {
  "kernelspec": {
   "display_name": "Python 3",
   "language": "python",
   "name": "python3"
  },
  "language_info": {
   "codemirror_mode": {
    "name": "ipython",
    "version": 3
   },
   "file_extension": ".py",
   "mimetype": "text/x-python",
   "name": "python",
   "nbconvert_exporter": "python",
   "pygments_lexer": "ipython3",
   "version": "3.7.0"
  }
 },
 "nbformat": 4,
 "nbformat_minor": 5
}
