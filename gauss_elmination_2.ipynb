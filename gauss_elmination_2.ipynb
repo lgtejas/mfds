{
 "cells": [
  {
   "cell_type": "code",
   "execution_count": 1,
   "id": "496761a7-1e69-4fb8-add0-0dac30c29544",
   "metadata": {},
   "outputs": [],
   "source": [
    "from sympy import Matrix"
   ]
  },
  {
   "cell_type": "code",
   "execution_count": 4,
   "id": "f45e580b-7741-44b0-9f9a-a16ee9064abe",
   "metadata": {},
   "outputs": [],
   "source": [
    "A = Matrix([[0,2,0,1],[2,2,3,2],[4,-3,0,1],[6,1,-6,-5]])"
   ]
  },
  {
   "cell_type": "code",
   "execution_count": 5,
   "id": "064478f2-5a95-45de-9842-85fe29d5ce2c",
   "metadata": {},
   "outputs": [
    {
     "data": {
      "text/latex": [
       "$\\displaystyle \\left[\\begin{matrix}0 & 2 & 0 & 1\\\\2 & 2 & 3 & 2\\\\4 & -3 & 0 & 1\\\\6 & 1 & -6 & -5\\end{matrix}\\right]$"
      ],
      "text/plain": [
       "Matrix([\n",
       "[0,  2,  0,  1],\n",
       "[2,  2,  3,  2],\n",
       "[4, -3,  0,  1],\n",
       "[6,  1, -6, -5]])"
      ]
     },
     "execution_count": 5,
     "metadata": {},
     "output_type": "execute_result"
    }
   ],
   "source": [
    "A"
   ]
  },
  {
   "cell_type": "code",
   "execution_count": 6,
   "id": "5dc47d3e-aa2b-474c-8c7a-9a18a26bff4f",
   "metadata": {},
   "outputs": [],
   "source": [
    "B=Matrix([[0,-2,-7,6]])"
   ]
  },
  {
   "cell_type": "code",
   "execution_count": 7,
   "id": "1a7e0e15-eaab-4758-bf92-00e3547e2b24",
   "metadata": {},
   "outputs": [],
   "source": [
    "B = B.transpose()"
   ]
  },
  {
   "cell_type": "code",
   "execution_count": 8,
   "id": "be6165d0-c012-4188-ac2f-93802efd2848",
   "metadata": {},
   "outputs": [
    {
     "data": {
      "text/latex": [
       "$\\displaystyle \\left[\\begin{matrix}0\\\\-2\\\\-7\\\\6\\end{matrix}\\right]$"
      ],
      "text/plain": [
       "Matrix([\n",
       "[ 0],\n",
       "[-2],\n",
       "[-7],\n",
       "[ 6]])"
      ]
     },
     "execution_count": 8,
     "metadata": {},
     "output_type": "execute_result"
    }
   ],
   "source": [
    "B"
   ]
  },
  {
   "cell_type": "code",
   "execution_count": 9,
   "id": "2737b27c-ece8-488a-8cf4-78b01bcc2787",
   "metadata": {},
   "outputs": [
    {
     "data": {
      "text/plain": [
       "(Matrix([\n",
       " [-1/2],\n",
       " [   1],\n",
       " [ 1/3],\n",
       " [  -2]]),\n",
       " Matrix(0, 1, []))"
      ]
     },
     "execution_count": 9,
     "metadata": {},
     "output_type": "execute_result"
    }
   ],
   "source": [
    "A.gauss_jordan_solve(B)"
   ]
  },
  {
   "cell_type": "markdown",
   "id": "91a62096-cc58-4df6-866a-4f0176f936c7",
   "metadata": {},
   "source": [
    "<b>x1=-0.05 , x2=1.0,  x3=0.33, x4=-2.0</b> "
   ]
  }
 ],
 "metadata": {
  "kernelspec": {
   "display_name": "Python 3",
   "language": "python",
   "name": "python3"
  },
  "language_info": {
   "codemirror_mode": {
    "name": "ipython",
    "version": 3
   },
   "file_extension": ".py",
   "mimetype": "text/x-python",
   "name": "python",
   "nbconvert_exporter": "python",
   "pygments_lexer": "ipython3",
   "version": "3.7.0"
  }
 },
 "nbformat": 4,
 "nbformat_minor": 5
}
