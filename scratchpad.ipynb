{
 "cells": [
  {
   "cell_type": "code",
   "execution_count": 1,
   "id": "2e0af4e0-8d43-4516-87b8-3399245daa71",
   "metadata": {},
   "outputs": [],
   "source": [
    "import numpy as np\n",
    "from sympy import Matrix"
   ]
  },
  {
   "cell_type": "code",
   "execution_count": 45,
   "id": "75d28adf-7c8a-43bd-8d26-cf834357aa11",
   "metadata": {},
   "outputs": [],
   "source": [
    "#a = [[6,1],[4,-2]]\n",
    "#b = [[-3,6]]\n",
    "\n",
    "#a = [[2,-8],[3,1]]\n",
    "#b = [[-4,7]]\n",
    "\n",
    "a = [[25.38,-15.48],[-14.10,8.60]]\n",
    "b = [[30.60,-17]]"
   ]
  },
  {
   "cell_type": "code",
   "execution_count": 46,
   "id": "4ef8ff38-5517-49a4-b5ef-247555516b4a",
   "metadata": {},
   "outputs": [],
   "source": [
    "A = Matrix(a)"
   ]
  },
  {
   "cell_type": "code",
   "execution_count": 47,
   "id": "29cdc2ee-6c18-4201-a1ea-01e346f26a3b",
   "metadata": {},
   "outputs": [
    {
     "data": {
      "text/latex": [
       "$\\displaystyle \\left[\\begin{matrix}25.38 & -15.48\\\\-14.1 & 8.6\\end{matrix}\\right]$"
      ],
      "text/plain": [
       "Matrix([\n",
       "[25.38, -15.48],\n",
       "[-14.1,    8.6]])"
      ]
     },
     "execution_count": 47,
     "metadata": {},
     "output_type": "execute_result"
    }
   ],
   "source": [
    "A"
   ]
  },
  {
   "cell_type": "code",
   "execution_count": 48,
   "id": "52205f0a-2305-4b87-930b-9e4cb46dc813",
   "metadata": {},
   "outputs": [],
   "source": [
    "B = Matrix(b)"
   ]
  },
  {
   "cell_type": "code",
   "execution_count": 49,
   "id": "22f198b9-3a7a-4592-a03d-8e891fafe1c9",
   "metadata": {},
   "outputs": [],
   "source": [
    "B = B.T"
   ]
  },
  {
   "cell_type": "code",
   "execution_count": 50,
   "id": "2f168b79-3969-4fcc-a942-ba4cd45b2e91",
   "metadata": {},
   "outputs": [
    {
     "data": {
      "text/latex": [
       "$\\displaystyle \\left[\\begin{matrix}30.6\\\\-17\\end{matrix}\\right]$"
      ],
      "text/plain": [
       "Matrix([\n",
       "[30.6],\n",
       "[ -17]])"
      ]
     },
     "execution_count": 50,
     "metadata": {},
     "output_type": "execute_result"
    }
   ],
   "source": [
    "B"
   ]
  },
  {
   "cell_type": "code",
   "execution_count": 51,
   "id": "789e662a-85f8-418e-b560-0d747f6fe2f5",
   "metadata": {},
   "outputs": [
    {
     "data": {
      "text/plain": [
       "(Matrix([\n",
       " [-0.0141843971631205],\n",
       " [               -2.0]]),\n",
       " Matrix(0, 1, []))"
      ]
     },
     "execution_count": 51,
     "metadata": {},
     "output_type": "execute_result"
    }
   ],
   "source": [
    "A.gauss_jordan_solve(B)"
   ]
  },
  {
   "cell_type": "code",
   "execution_count": null,
   "id": "26858bec-9cbf-4d6e-84f8-5f5799c1c793",
   "metadata": {},
   "outputs": [],
   "source": []
  },
  {
   "cell_type": "code",
   "execution_count": null,
   "id": "e8b197bd-1b09-4ea3-88e3-e69a27435d28",
   "metadata": {},
   "outputs": [],
   "source": []
  }
 ],
 "metadata": {
  "kernelspec": {
   "display_name": "Python 3",
   "language": "python",
   "name": "python3"
  },
  "language_info": {
   "codemirror_mode": {
    "name": "ipython",
    "version": 3
   },
   "file_extension": ".py",
   "mimetype": "text/x-python",
   "name": "python",
   "nbconvert_exporter": "python",
   "pygments_lexer": "ipython3",
   "version": "3.7.0"
  }
 },
 "nbformat": 4,
 "nbformat_minor": 5
}
